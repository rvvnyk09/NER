{
 "cells": [
  {
   "cell_type": "code",
   "execution_count": 234,
   "metadata": {},
   "outputs": [],
   "source": [
    "import spacy\n",
    "from spacy import displacy\n",
    "from spacy.training import Example\n",
    "from spacy.util import minibatch, compounding\n",
    "import shutil\n",
    "import os\n",
    "import matplotlib.pyplot as plt\n",
    "\n",
    "nlp = spacy.load(\"en_core_web_sm\")"
   ]
  },
  {
   "cell_type": "code",
   "execution_count": 339,
   "metadata": {},
   "outputs": [
    {
     "name": "stdout",
     "output_type": "stream",
     "text": [
      "Folder 'H:\\RV\\Work\\py\\Cohort\\Project\\updated_model' has been deleted.\n",
      "[('A plane is flying.', {'entities': []}), ('The apples were lined in a box.', {'entities': []}), ('This is the only place where everyone gathers and prefers to live. ', {'entities': []}), ('employees can work from home', {'entities': []}), ('master said yes, it can be done certainly', {'entities': []}), ('A typical weekday is Monday, Tuesday, Wednesday, Thursday, Friday, Saturday, Sunday', {'entities': []}), ('AM is a well-known organization.', {'entities': [(0, 2, 'ORG')]}), ('JPM is a well-known organization.', {'entities': [(0, 3, 'ORG')]}), ('C is a well-known organization.', {'entities': [(0, 1, 'ORG')]}), ('A is a well-known organization.', {'entities': [(0, 1, 'ORG')]}), ('WorkDay is a well-known organization.', {'entities': [(0, 7, 'ORG')]}), ('JP Morgan is a well-known organization.', {'entities': [(0, 9, 'ORG')]}), ('Alphabet is a well-known organization.', {'entities': [(0, 8, 'ORG')]})]\n",
      "Iteration 0, Losses: {'ner': 2.437543697512095e-12}\n",
      "Iteration 1, Losses: {'ner': 9.169561250062364e-10}\n",
      "Iteration 2, Losses: {'ner': 6.718007594618141e-13}\n",
      "Iteration 3, Losses: {'ner': 1.8283423857150082e-13}\n",
      "Iteration 4, Losses: {'ner': 7.100469839330533e-13}\n",
      "Iteration 5, Losses: {'ner': 9.869088734970308e-14}\n",
      "Iteration 6, Losses: {'ner': 1.5234677510881921e-12}\n",
      "Iteration 7, Losses: {'ner': 8.677839421889858e-10}\n",
      "Iteration 8, Losses: {'ner': 3.7425866661246417e-10}\n",
      "Iteration 9, Losses: {'ner': 6.34942843666468e-13}\n",
      "Iteration 10, Losses: {'ner': 7.467514122797994e-14}\n",
      "Iteration 11, Losses: {'ner': 3.1598467151514776e-13}\n",
      "Iteration 12, Losses: {'ner': 1.2785186634963526e-13}\n",
      "Iteration 13, Losses: {'ner': 1.004151848936544e-12}\n",
      "Iteration 14, Losses: {'ner': 3.1826086100657033e-13}\n",
      "Iteration 15, Losses: {'ner': 4.043575949713878e-08}\n",
      "Iteration 16, Losses: {'ner': 2.058003914435858e-12}\n",
      "Iteration 17, Losses: {'ner': 4.93836134523139e-12}\n",
      "Iteration 18, Losses: {'ner': 1.9851773160613078e-11}\n",
      "Iteration 19, Losses: {'ner': 1.920672278002066e-13}\n",
      "Iteration 20, Losses: {'ner': 5.4535949665611926e-14}\n",
      "Iteration 21, Losses: {'ner': 5.95600716611373e-13}\n",
      "Iteration 22, Losses: {'ner': 2.0136684665722045e-13}\n",
      "Iteration 23, Losses: {'ner': 1.9235795912101966e-12}\n",
      "Iteration 24, Losses: {'ner': 6.786258393287178e-10}\n",
      "Iteration 25, Losses: {'ner': 5.315545223801309e-13}\n",
      "Iteration 26, Losses: {'ner': 4.886532958222002e-13}\n",
      "Iteration 27, Losses: {'ner': 5.694946008761606e-11}\n",
      "Iteration 28, Losses: {'ner': 1.5213568430856748e-11}\n",
      "Iteration 29, Losses: {'ner': 2.393581181138098e-13}\n",
      "Iteration 30, Losses: {'ner': 1.3081509965210353e-12}\n",
      "Iteration 31, Losses: {'ner': 2.1279761625228173e-11}\n",
      "Iteration 32, Losses: {'ner': 3.4353937899451884e-12}\n",
      "Iteration 33, Losses: {'ner': 1.288794816208599e-12}\n",
      "Iteration 34, Losses: {'ner': 1.1384983408079537e-13}\n",
      "Iteration 35, Losses: {'ner': 2.767786028641787e-13}\n",
      "Iteration 36, Losses: {'ner': 8.092596235002002e-13}\n",
      "Iteration 37, Losses: {'ner': 1.1550166527284235e-11}\n",
      "Iteration 38, Losses: {'ner': 3.054717509976196e-11}\n",
      "Iteration 39, Losses: {'ner': 8.769405200719169e-12}\n"
     ]
    },
    {
     "data": {
      "image/png": "[encoded data removed]",
      "text/plain": [
       "<Figure size 640x480 with 1 Axes>"
      ]
     },
     "metadata": {},
     "output_type": "display_data"
    }
   ],
   "source": [
    "# Specify the path to the folder you want to delete\n",
    "folder_path = 'H:\\\\RV\\\\Work\\\\py\\\\Cohort\\\\Project\\\\updated_model'\n",
    "\n",
    "# Check if the folder exists\n",
    "if os.path.exists(folder_path):\n",
    "    # Delete the folder and all its contents\n",
    "#    shutil.rmtree(folder_path)\n",
    "    print(f\"Folder '{folder_path}' has been deleted.\")\n",
    "else:\n",
    "    print(f\"Folder '{folder_path}' does not exist.\")\n",
    "\n",
    "# Get the Named Entity Recognizer (NER) component\n",
    "ner = nlp.get_pipe(\"ner\")\n",
    "\n",
    "# Add the new label to the NER component\n",
    "ner.add_label(\"ORG\")\n",
    "\n",
    "# Prepare the training data\n",
    "org_names = [\"AM\", \"JPM\", \"C\", \"A\",\"WorkDay\",\"JP Morgan\",\"Alphabet\"]\n",
    "TRAIN_DATA = [\n",
    "    (\"A plane is flying.\", {\"entities\": []}),\n",
    "    (\"The apples were lined in a box.\", {\"entities\": []}),\n",
    "    (\"This is the only place where everyone gathers and prefers to live. \", {\"entities\": []}),\n",
    "    (\"employees can work from home\", {\"entities\": []}),\n",
    "    (\"master said yes, it can be done certainly\", {\"entities\": []}),\n",
    "    (\"A typical weekday is Monday, Tuesday, Wednesday, Thursday, Friday, Saturday, Sunday\", {\"entities\": []})\n",
    "    ]\n",
    "\n",
    "for org in org_names:\n",
    "    sentence = f\"{org} is a well-known organization.\"\n",
    "    entities = [(0, len(org), \"ORG\")]\n",
    "    TRAIN_DATA.append((sentence, {\"entities\": entities}))\n",
    "\n",
    "print(TRAIN_DATA)\n",
    "# Disable other pipeline components to only train NER\n",
    "other_pipes = [pipe for pipe in nlp.pipe_names if pipe != \"ner\"]\n",
    "losses_list = []\n",
    "\n",
    "with nlp.disable_pipes(*other_pipes):\n",
    "    optimizer = nlp.resume_training()\n",
    "    for itn in range(40):  # Number of iterations\n",
    "        losses = {}\n",
    "        batches = minibatch(TRAIN_DATA, size=compounding(4.0, 32.0, 1.001))\n",
    "        for batch in batches:\n",
    "            for text, annotations in batch:\n",
    "                doc = nlp.make_doc(text)\n",
    "                example = Example.from_dict(doc, annotations)\n",
    "                nlp.update([example], drop=0.1, losses=losses)\n",
    "        losses_list.append(losses[\"ner\"])\n",
    "        print(f\"Iteration {itn}, Losses: {losses}\")\n",
    "\n",
    "# Save the updated model\n",
    "nlp.to_disk(\"updated_model\")\n",
    "\n",
    "# Load the updated model\n",
    "nlp_updated = spacy.load(\"updated_model\")\n",
    "\n",
    "# Plot the loss function\n",
    "plt.plot(losses_list)\n",
    "plt.xlabel('Iteration')\n",
    "plt.ylabel('Loss')\n",
    "plt.title('Loss Function Over Iterations')\n",
    "plt.show()\n"
   ]
  },
  {
   "cell_type": "code",
   "execution_count": 340,
   "metadata": {},
   "outputs": [],
   "source": [
    "# sample_text = '''UN Trade and Development (UNCTAD) is an intergovernmental organization within the United Nations Secretariat that promotes the interests of developing countries in world trade.[1] It was established in 1964 by the United Nations General Assembly (UNGA) as the United Nations Conference on Trade and Development but rebranded to its current name on the occasion of its 60th anniversary in 2024.[2] It reports to both the General Assembly and the United Nations Economic and Social Council (ECOSOC).[3] UNCTAD is composed of 195 member states and works with non-governmental organizations worldwide;[4] its permanent secretariat is at UNOG in Geneva, Switzerland.\n",
    "\n",
    "# The primary objective of UNCTAD is to formulate policies relating to all aspects of development, including trade, aid, transport, finance and technology. The newspaper praised about JPM. United nations and JPMC did not have a chance. It was created in response to concerns among developing countries that existing international institutions like GATT (since replaced by the World Trade Organization), the International Monetary Fund (IMF), and the World Bank were not properly organized to handle the particular problems of developing countries; UNCTAD would provide a forum where developing nations could discuss and address problems relating to their economic development.\n",
    "\n",
    "# One of UNCTAD's principal achievements was conceiving and implementing the Generalized System of Preferences (GSP), which promotes the export of manufactured goods from developing countries. In the 1970s and 1980s, UNCTAD was closely associated with the New International Economic Order (NIEO), a set of proposals that sought to reduce economic dependency and inequality between developing and developed countries.\n",
    "\n",
    "# UNCTAD conferences ordinarily take place every four years, with the first occurring in Geneva in 1964; fifteen subsequent meetings have taken place worldwide, with the most recent held in Bridgetown, Barbados, from 38 October 2021 (albeit virtually, due to the COVID-19 pandemic). \n",
    "\n",
    "# On a discussion with Certainly and ARDT, it was decided to take a step back. \n",
    "\n",
    "# UNCTAD has 400 staff members and a biannual (20102011) regular budget of US$138 million in core expenditures and US$72 million in extra-budgetary technical assistance funds. The most trending price of AM is its lowest index value. It is a member of the United Nations Sustainable Development Group, a consortium of UN entities that work to promote sustainable socioeconomic development.[5] '''"
   ]
  },
  {
   "cell_type": "code",
   "execution_count": 341,
   "metadata": {},
   "outputs": [],
   "source": [
    "sample_text = '''On a discussion with C and JP Morgan, it was decided to take a step back. Cat ran out the box\n",
    "A plane is flying. The apples were lined in a tube of oranges. \n",
    "A bird is sitting on a couch. \n",
    "Certainly this is a topic for discussion. \n",
    "A is trending right now. \n",
    "Tuesday is a Workday.\n",
    "Employees of WorkDay went on a strike.  \n",
    "On the board meeting of Alphabet, it was decided to go to a park. \n",
    "'''"
   ]
  },
  {
   "cell_type": "code",
   "execution_count": 342,
   "metadata": {},
   "outputs": [],
   "source": [
    "#sample_text = '''The most trending price of AM is $600'''"
   ]
  },
  {
   "cell_type": "code",
   "execution_count": 343,
   "metadata": {},
   "outputs": [],
   "source": [
    "doc=nlp(sample_text)"
   ]
  },
  {
   "cell_type": "code",
   "execution_count": 344,
   "metadata": {},
   "outputs": [],
   "source": [
    "\n",
    "# Test the updated model\n",
    "# test_text = sample_text\n",
    "# doc = nlp_updated(test_text)\n",
    "# for ent in doc.ents:\n",
    "#     print(ent.text, ent.label_)"
   ]
  },
  {
   "cell_type": "code",
   "execution_count": 345,
   "metadata": {},
   "outputs": [],
   "source": [
    "# Filter entities to include only organizations\n",
    "org_entities = [ent for ent in doc.ents if ent.label_ == \"ORG\"]"
   ]
  },
  {
   "cell_type": "code",
   "execution_count": 346,
   "metadata": {},
   "outputs": [],
   "source": [
    "# Create a new Doc object with only the ORG entities\n",
    "doc_ents = [{\"start\": ent.start_char, \"end\": ent.end_char, \"label\": ent.label_} for ent in org_entities]"
   ]
  },
  {
   "cell_type": "code",
   "execution_count": 347,
   "metadata": {},
   "outputs": [
    {
     "data": {
      "text/html": [
       "<span class=\"tex2jax_ignore\"><div class=\"entities\" style=\"line-height: 2.5; direction: ltr\">On a discussion with \n",
       "<mark class=\"entity\" style=\"background: #7aecec; padding: 0.45em 0.6em; margin: 0 0.25em; line-height: 1; border-radius: 0.35em;\">\n",
       "    C\n",
       "    <span style=\"font-size: 0.8em; font-weight: bold; line-height: 1; border-radius: 0.35em; vertical-align: middle; margin-left: 0.5rem\">ORG</span>\n",
       "</mark>\n",
       " and \n",
       "<mark class=\"entity\" style=\"background: #7aecec; padding: 0.45em 0.6em; margin: 0 0.25em; line-height: 1; border-radius: 0.35em;\">\n",
       "    JP Morgan\n",
       "    <span style=\"font-size: 0.8em; font-weight: bold; line-height: 1; border-radius: 0.35em; vertical-align: middle; margin-left: 0.5rem\">ORG</span>\n",
       "</mark>\n",
       ", it was decided to take a step back. Cat ran out the box<br>A plane is flying. The apples were lined in a tube of oranges. <br>A bird is sitting on a couch. <br>Certainly this is a topic for discussion. <br>\n",
       "<mark class=\"entity\" style=\"background: #7aecec; padding: 0.45em 0.6em; margin: 0 0.25em; line-height: 1; border-radius: 0.35em;\">\n",
       "    A\n",
       "    <span style=\"font-size: 0.8em; font-weight: bold; line-height: 1; border-radius: 0.35em; vertical-align: middle; margin-left: 0.5rem\">ORG</span>\n",
       "</mark>\n",
       " is trending right now. <br>Tuesday is a Workday.<br>Employees of \n",
       "<mark class=\"entity\" style=\"background: #7aecec; padding: 0.45em 0.6em; margin: 0 0.25em; line-height: 1; border-radius: 0.35em;\">\n",
       "    WorkDay\n",
       "    <span style=\"font-size: 0.8em; font-weight: bold; line-height: 1; border-radius: 0.35em; vertical-align: middle; margin-left: 0.5rem\">ORG</span>\n",
       "</mark>\n",
       " went on a strike.  <br>On the board meeting of \n",
       "<mark class=\"entity\" style=\"background: #7aecec; padding: 0.45em 0.6em; margin: 0 0.25em; line-height: 1; border-radius: 0.35em;\">\n",
       "    Alphabet\n",
       "    <span style=\"font-size: 0.8em; font-weight: bold; line-height: 1; border-radius: 0.35em; vertical-align: middle; margin-left: 0.5rem\">ORG</span>\n",
       "</mark>\n",
       ", it was decided to go to a park. <br></div></span>"
      ],
      "text/plain": [
       "<IPython.core.display.HTML object>"
      ]
     },
     "metadata": {},
     "output_type": "display_data"
    }
   ],
   "source": [
    "# Render the visualization\n",
    "displacy.render({\"text\": doc.text, \"ents\": doc_ents, \"title\": None}, style=\"ent\", manual=True)"
   ]
  }
 ],
 "metadata": {
  "kernelspec": {
   "display_name": "Python 3 (ipykernel)",
   "language": "python",
   "name": "python3"
  },
  "language_info": {
   "codemirror_mode": {
    "name": "ipython",
    "version": 3
   },
   "file_extension": ".py",
   "mimetype": "text/x-python",
   "name": "python",
   "nbconvert_exporter": "python",
   "pygments_lexer": "ipython3",
   "version": "3.10.11"
  }
 },
 "nbformat": 4,
 "nbformat_minor": 2
}
